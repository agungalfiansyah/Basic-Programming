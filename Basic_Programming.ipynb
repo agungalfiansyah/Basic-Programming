{
  "nbformat": 4,
  "nbformat_minor": 0,
  "metadata": {
    "colab": {
      "name": "Basic Programming.ipynb",
      "version": "0.3.2",
      "provenance": [],
      "include_colab_link": true
    },
    "kernelspec": {
      "name": "python3",
      "display_name": "Python 3"
    }
  },
  "cells": [
    {
      "cell_type": "markdown",
      "metadata": {
        "id": "view-in-github",
        "colab_type": "text"
      },
      "source": [
        "<a href=\"https://colab.research.google.com/github/agungalfiansyah/Basic-Programming/blob/master/Basic_Programming.ipynb\" target=\"_parent\"><img src=\"https://colab.research.google.com/assets/colab-badge.svg\" alt=\"Open In Colab\"/></a>"
      ]
    },
    {
      "metadata": {
        "id": "jGtyT_nOpdT6",
        "colab_type": "text"
      },
      "cell_type": "markdown",
      "source": [
        "# Basic Programming using Python\n"
      ]
    },
    {
      "metadata": {
        "id": "1FUFIE5JpxE_",
        "colab_type": "text"
      },
      "cell_type": "markdown",
      "source": [
        "**Objective:**\n",
        "\n",
        "\n",
        "1.   Memperkenalkan mahasiswa kepada pemrograman dasar\n",
        "2.   Memperkenalkan cara penyelesaian satu masalah dengan menggunakan algoritma\n",
        "\n",
        "Bahasa pemrograman yang digunakan adalah Python, namun demikian kelas ini tidak ditujukan untuk memperlajari python secara khusus. Kelas lebih ditujukan agar mahasiswa memahami pemrograman.\n",
        "\n"
      ]
    }
  ]
}